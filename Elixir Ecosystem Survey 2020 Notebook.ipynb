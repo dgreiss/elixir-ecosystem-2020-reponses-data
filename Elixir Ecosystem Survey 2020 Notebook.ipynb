{
 "cells": [
  {
   "cell_type": "markdown",
   "id": "flying-punch",
   "metadata": {},
   "source": [
    "## Elixir Ecosystem Survey 2020\n",
    "\n",
    "This is a quick look at the Elixir Ecosystem Survey 2020. Data was obtained from Hugo Baraúna's GitHub [repo](https://github.com/hugobarauna/elixir-ecosystem-2020-reponses-data).\n",
    "\n",
    "## About the Survey\n",
    "\n",
    "The survey was conducted over the course of the summer in 2020 by Brian Cardarella, who led the efforts to create and dissemniate the [survey](https://elixirforum.com/t/2020-elixir-ecosystem-survey/32396). The results of the survey were presented at [ElixirConf 2020](https://www.youtube.com/watch?v=-nVgAcy9wB0) by Brian. \n",
    "\n",
    "The survey was created on Typeform, but has since been taken down. Hugo kindly extracted the data and also created a PSQL dump of the normalized data. For this analysis, only the raw data extract was used."
   ]
  },
  {
   "cell_type": "markdown",
   "id": "verbal-butler",
   "metadata": {},
   "source": [
    "### Packages used"
   ]
  },
  {
   "cell_type": "code",
   "execution_count": null,
   "id": "simple-seattle",
   "metadata": {},
   "outputs": [],
   "source": [
    "library(tidyverse)\n",
    "library(ggplot2)\n",
    "library(gridExtra)"
   ]
  },
  {
   "cell_type": "markdown",
   "id": "unnecessary-portland",
   "metadata": {},
   "source": [
    "### Read and Cleaning the Data\n",
    "\n",
    "I'm simply reading the csv file, and assigning all the columns to be character type. I could possibly encode the date time fields (eg. `Start Date (UTC)`), but not sure it's worth the effort right now..."
   ]
  },
  {
   "cell_type": "code",
   "execution_count": null,
   "id": "bearing-insured",
   "metadata": {},
   "outputs": [],
   "source": [
    "raw <- read_csv(\"elixir-ecosystem-survey-2020-raw-data.csv\", col_types = cols(.default = \"c\"))\n",
    "raw"
   ]
  },
  {
   "cell_type": "markdown",
   "id": "swedish-domestic",
   "metadata": {},
   "source": [
    "A peculiarity of the data dump is that a row represents the answers from one respondent (ie. one survey response per row), where the column names are the questions themselves, or an answer choice, when a choice was given in the question, as well as some metadata. "
   ]
  },
  {
   "cell_type": "markdown",
   "id": "southern-petroleum",
   "metadata": {},
   "source": [
    "**An important issue with the data was that there were 14 multiple choice questions explicity missing from the data, but the choices had been preserved.** For now, I've imputed what I believe are the questions that were asked."
   ]
  },
  {
   "cell_type": "code",
   "execution_count": null,
   "id": "certain-pontiac",
   "metadata": {},
   "outputs": [],
   "source": [
    "additions <- c(\n",
    "  \"What tool do you use to format code?\",\n",
    "  \"What CI/CD tool do you use?\",\n",
    "  \"How do you deploy Elixir in production?\",\n",
    "  \"What platform do you use to deploy your code in production?\",\n",
    "  \"What database do you most often use with Elixir?\",\n",
    "  \"What tool do you most often use to debug Elixir code?\",\n",
    "  \"What were challenges to adopting Elixir for your team?\",\n",
    "  \"What benefits did your team experience by using Elixir?\",\n",
    "  \"In what capacities is your company using Elixir?\",\n",
    "  \"Do you subscribe to any Elixir newsletters?\",\n",
    "  \"Do you listen to any Elixir podcasts?\",\n",
    "  \"Do you participate in any Elixir forums or communities?\",\n",
    "  \"How do you prefer to learn a new language?\",\n",
    "  \"How were you first introduced to Elixir?\"\n",
    ")"
   ]
  },
  {
   "cell_type": "markdown",
   "id": "false-alfred",
   "metadata": {},
   "source": [
    "I'll convert the data into [long form or \"tidy data\"](https://vita.had.co.nz/papers/tidy-data.html) which will allow analysis of the survey responses to be much easier."
   ]
  },
  {
   "cell_type": "code",
   "execution_count": null,
   "id": "vanilla-filename",
   "metadata": {},
   "outputs": [],
   "source": [
    "long <-\n",
    "  raw %>%\n",
    "  mutate(`What tool do you use to format code?` = NA, .after = 162) %>%\n",
    "  mutate(`What CI/CD tool do you use?` = NA, .after = 150) %>%\n",
    "  mutate(`How do you deploy Elixir in production?` = NA, .after = 143) %>%\n",
    "  mutate(`What platform do you use to deploy your code in production?` = NA, .after = 137) %>%\n",
    "  mutate(`What database do you most often use with Elixir?` = NA, .after = 130) %>%\n",
    "  mutate(`What tool do you most often use to debug Elixir code?` = NA, .after = 123) %>%\n",
    "  mutate(`What were challenges to adopting Elixir for your team?` = NA, .after = 112) %>%\n",
    "  mutate(`What benefits did your team experience by using Elixir?` = NA, .after = 106) %>%\n",
    "  mutate(`In what capacities is your company using Elixir?` = NA, .after = 92) %>%\n",
    "  mutate(`Do you subscribe to any Elixir newsletters?` = NA, .after = 82) %>%\n",
    "  mutate(`Do you listen to any Elixir podcasts?` = NA, .after = 75) %>%\n",
    "  mutate(`Do you participate in any Elixir forums or communities?` = NA, .after = 66) %>%\n",
    "  mutate(`How do you prefer to learn a new language?` = NA, .after = 24) %>%\n",
    "  mutate(`How were you first introduced to Elixir?` = NA, .after = 18) %>%\n",
    "  pivot_longer(\n",
    "    !c(`#`, contains(\"UTC\"), `Network ID`),\n",
    "    names_to = \"question\",\n",
    "    values_to = \"answer\"\n",
    "  ) %>%\n",
    "  janitor::clean_names()\n",
    "\n",
    "#long"
   ]
  },
  {
   "cell_type": "markdown",
   "id": "american-bracelet",
   "metadata": {},
   "source": [
    "Now that the data is in long form, I separate the questions from the choices. Unfortunately there is no programmatic way to do this so I manually created a `questions` table. I created a temporary table `questions_with_choices` to make the manual extraction of the questions a lot easier."
   ]
  },
  {
   "cell_type": "code",
   "execution_count": null,
   "id": "welsh-competition",
   "metadata": {},
   "outputs": [],
   "source": [
    "questions_with_choices <-\n",
    "  long %>%\n",
    "  distinct(question)\n",
    "\n",
    "# write_csv(questions_with_choices, \"./output/questions_with_choices.csv\")\n",
    "\n",
    "# questions_with_choices"
   ]
  },
  {
   "cell_type": "code",
   "execution_count": null,
   "id": "active-junior",
   "metadata": {},
   "outputs": [],
   "source": [
    "qs <- c(\n",
    "  \"Are you actively using Elixir in either professional or personal projects?\",\n",
    "  \"What solutions was the Elixir ecosystem lacking?\",\n",
    "  \"How long have you been using Elixir?\",\n",
    "  \"What is the most recent version of Elixir that you have used?\",\n",
    "  \"Have you written any Erlang?\",\n",
    "  \"What is your age range?\",\n",
    "  \"Which gender do you identify as?\",\n",
    "  \"In which country do you currently reside?\",\n",
    "  \"Do you have a college degree in Computer Science or similar degree?\",\n",
    "  \"What part of Elixir did you find most difficult to learn?\",\n",
    "  \"Do you maintain any Open Source (OSS) Elixir libraries?\",\n",
    "  \"Have you made contributions to anyone else's OSS Elixir libraries?\",\n",
    "  \"Have you made OSS contributions back to Elixir?\",\n",
    "  \"How often do you attend local Elixir meetups?\",\n",
    "  \"Do you help organize Elixir meetups?\",\n",
    "  \"Do you attend your continent's major Elixir Conference\",\n",
    "  \"Do you attend any regional Elixir/Erlang conferences?\",\n",
    "  \"What industry is your company in?\",\n",
    "  \"What is your role within your company?\",\n",
    "  \"Does your company use Elixir?\",\n",
    "  \"How long has your company been using Elixir?\",\n",
    "  \"How many engineers are using Elixir at your company?\",\n",
    "  \"Did your company migrate from another language or choose Elixir for a new project?\",\n",
    "  \"Can you say which language(s) and describe why it won?\",\n",
    "  \"Which operating system do you primarily develop on?\",\n",
    "  \"Which editor/IDE do you primarily write Elixir with?\",\n",
    "  \"Which operating system do you deploy to?\",\n",
    "  \"Have you ever used Hot Code Reloading in production?\",\n",
    "  \"If there is one library that you are excited about in 2020 which is it?\",\n",
    "  \"Are you using Phoenix?\",\n",
    "  \"What is the most recent version of Phoenix that you have used?\",\n",
    "  \"Are you running Phoenix in production?\",\n",
    "  \"Are you using Nerves?\",\n",
    "  \"What is the most recent version of Nerves that you have used?\",\n",
    "  \"Are you using Scenic?\",\n",
    "  \"Is your Nerves application distributed across many devices?\",\n",
    "  additions\n",
    ")\n",
    "\n",
    "questions <- tibble(id = seq_along(qs), question = qs)\n",
    "\n",
    "# write_csv(questions, \"./ouptut/questions.csv\")\n",
    "# questions"
   ]
  },
  {
   "cell_type": "markdown",
   "id": "overhead-orchestra",
   "metadata": {},
   "source": [
    "An assumption I've made here is that the data from Typeform is organized so that choices immediately follow the question, which allows me to create a relationship between questions and choices. For example the question \"Which Elixir newsletters do you subscribe to?\", is immediately followed by \"Elixir Radar\", \"ElixirWeekly\", \"ElixirDigest\", \"Other\". "
   ]
  },
  {
   "cell_type": "code",
   "execution_count": null,
   "id": "fixed-institute",
   "metadata": {},
   "outputs": [],
   "source": [
    "choices <-\n",
    "  questions_with_choices %>%\n",
    "  left_join(questions, by = c(\"question\" = \"question\")) %>%\n",
    "  fill(id) %>%\n",
    "  anti_join(questions, by = c(\"question\" = \"question\")) %>%\n",
    "  rename(question_id = id) %>%\n",
    "  rename(choice = question) %>%\n",
    "  mutate(id = seq_len(nrow(.))) %>%\n",
    "  select(id, question_id, choice)\n",
    "\n",
    "# write_csv(choices, \"./output/choices.csv\")\n",
    "\n",
    "#choices"
   ]
  },
  {
   "cell_type": "markdown",
   "id": "dietary-swedish",
   "metadata": {},
   "source": [
    "With the data separated into 3 tables `survey`, `questions` and `choices`, it's easy to perform basic aggregations and plotting on the data. Here's one example of creating a summary bar plot for each question."
   ]
  },
  {
   "cell_type": "code",
   "execution_count": null,
   "id": "laughing-ebony",
   "metadata": {},
   "outputs": [],
   "source": [
    "## Helper functions\n",
    "summarize_survey <- function(df) {\n",
    "  df %>%\n",
    "    group_by(answer) %>%\n",
    "    summarize(n = n()) %>%\n",
    "    mutate(prop = n / sum(n)) %>%\n",
    "    arrange(desc(prop)) %>%\n",
    "    slice_head(n = 15) # takes top n results\n",
    "}\n",
    "\n",
    "barplot_survey <- function(df, question) {\n",
    "  ggplot(df, aes(prop, reorder(answer, prop))) +\n",
    "    geom_col() +\n",
    "    theme_bw() +\n",
    "    ggtitle(question) +\n",
    "    ylab(\"\") +\n",
    "    xlab(\"Proportion (%)\") +\n",
    "    scale_x_continuous(labels = scales::label_percent()) +\n",
    "    scale_y_discrete(labels = function(x) stringr::str_trunc(x, 40, \"right\"))\n",
    "}\n"
   ]
  },
  {
   "cell_type": "code",
   "execution_count": null,
   "id": "unlimited-leeds",
   "metadata": {},
   "outputs": [],
   "source": [
    "survey_plots <-\n",
    "  long %>%\n",
    "  inner_join(questions, by = c(\"question\" = \"question\")) %>%\n",
    "  filter(!(question %in% additions)) %>%\n",
    "  replace_na(list(answer = \"Did not answer.\")) %>%\n",
    "  mutate(\n",
    "    answer = ifelse(answer == \"1\", \"Yes\", answer),\n",
    "    answer = ifelse(answer == \"0\", \"No\", answer)\n",
    "  ) %>%\n",
    "  group_by(question) %>%\n",
    "  nest() %>%\n",
    "  mutate(\n",
    "    summary = map(data, summarize_survey),\n",
    "    plot = map2(summary, question, barplot_survey)\n",
    "  )"
   ]
  },
  {
   "cell_type": "markdown",
   "id": "gorgeous-judge",
   "metadata": {},
   "source": [
    "## Top 15 Results for Survey Responses"
   ]
  },
  {
   "cell_type": "code",
   "execution_count": null,
   "id": "cultural-scoop",
   "metadata": {
    "scrolled": false
   },
   "outputs": [],
   "source": [
    "# Print the plots\n",
    "options(warn=-1)\n",
    "print(survey_plots$plot)"
   ]
  }
 ],
 "metadata": {
  "kernelspec": {
   "display_name": "R",
   "language": "R",
   "name": "ir"
  },
  "language_info": {
   "codemirror_mode": "r",
   "file_extension": ".r",
   "mimetype": "text/x-r-source",
   "name": "R",
   "pygments_lexer": "r",
   "version": "3.6.3"
  }
 },
 "nbformat": 4,
 "nbformat_minor": 5
}
